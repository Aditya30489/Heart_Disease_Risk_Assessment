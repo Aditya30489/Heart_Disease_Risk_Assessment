{
  "nbformat": 4,
  "nbformat_minor": 0,
  "metadata": {
    "colab": {
      "provenance": []
    },
    "kernelspec": {
      "name": "python3",
      "display_name": "Python 3"
    },
    "language_info": {
      "name": "python"
    }
  },
  "cells": [
    {
      "cell_type": "code",
      "execution_count": 11,
      "metadata": {
        "colab": {
          "base_uri": "https://localhost:8080/"
        },
        "id": "RI_UvlIfKjiQ",
        "outputId": "b53f4f2f-755f-4475-8e28-2b2ed32e87fc"
      },
      "outputs": [
        {
          "output_type": "stream",
          "name": "stdout",
          "text": [
            "\u001b[K\u001b[?25h\u001b[37;40mnpm\u001b[0m \u001b[0m\u001b[30;43mWARN\u001b[0m \u001b[0m\u001b[35msaveError\u001b[0m ENOENT: no such file or directory, open '/content/package.json'\n",
            "\u001b[K\u001b[?25h\u001b[37;40mnpm\u001b[0m \u001b[0m\u001b[34;40mnotice\u001b[0m\u001b[35m\u001b[0m created a lockfile as package-lock.json. You should commit this file.\n",
            "\u001b[0m\u001b[37;40mnpm\u001b[0m \u001b[0m\u001b[30;43mWARN\u001b[0m \u001b[0m\u001b[35menoent\u001b[0m ENOENT: no such file or directory, open '/content/package.json'\n",
            "\u001b[0m\u001b[37;40mnpm\u001b[0m \u001b[0m\u001b[30;43mWARN\u001b[0m\u001b[35m\u001b[0m content No description\n",
            "\u001b[0m\u001b[37;40mnpm\u001b[0m \u001b[0m\u001b[30;43mWARN\u001b[0m\u001b[35m\u001b[0m content No repository field.\n",
            "\u001b[0m\u001b[37;40mnpm\u001b[0m \u001b[0m\u001b[30;43mWARN\u001b[0m\u001b[35m\u001b[0m content No README data\n",
            "\u001b[0m\u001b[37;40mnpm\u001b[0m \u001b[0m\u001b[30;43mWARN\u001b[0m\u001b[35m\u001b[0m content No license field.\n",
            "\u001b[0m\n",
            "+ localtunnel@2.0.2\n",
            "added 22 packages from 22 contributors and audited 22 packages in 2.643s\n",
            "\n",
            "3 packages are looking for funding\n",
            "  run `npm fund` for details\n",
            "\n",
            "found 1 \u001b[93mmoderate\u001b[0m severity vulnerability\n",
            "  run `npm audit fix` to fix them, or `npm audit` for details\n",
            "\u001b[K\u001b[?25h"
          ]
        }
      ],
      "source": [
        "!npm install localtunnel"
      ]
    },
    {
      "cell_type": "code",
      "source": [
        "!pip install -q streamlit"
      ],
      "metadata": {
        "colab": {
          "base_uri": "https://localhost:8080/"
        },
        "id": "Y14dlm8yKmS6",
        "outputId": "739c7f5f-7c38-4860-8754-d7b57851bed2"
      },
      "execution_count": 10,
      "outputs": [
        {
          "output_type": "stream",
          "name": "stdout",
          "text": [
            "\u001b[2K     \u001b[90m━━━━━━━━━━━━━━━━━━━━━━━━━━━━━━━━━━━━━━━━\u001b[0m \u001b[32m8.6/8.6 MB\u001b[0m \u001b[31m22.8 MB/s\u001b[0m eta \u001b[36m0:00:00\u001b[0m\n",
            "\u001b[2K     \u001b[90m━━━━━━━━━━━━━━━━━━━━━━━━━━━━━━━━━━━━━━━━\u001b[0m \u001b[32m207.3/207.3 kB\u001b[0m \u001b[31m18.9 MB/s\u001b[0m eta \u001b[36m0:00:00\u001b[0m\n",
            "\u001b[2K     \u001b[90m━━━━━━━━━━━━━━━━━━━━━━━━━━━━━━━━━━━━━━━━\u001b[0m \u001b[32m6.9/6.9 MB\u001b[0m \u001b[31m66.6 MB/s\u001b[0m eta \u001b[36m0:00:00\u001b[0m\n",
            "\u001b[2K     \u001b[90m━━━━━━━━━━━━━━━━━━━━━━━━━━━━━━━━━━━━━━━━\u001b[0m \u001b[32m83.0/83.0 kB\u001b[0m \u001b[31m8.2 MB/s\u001b[0m eta \u001b[36m0:00:00\u001b[0m\n",
            "\u001b[2K     \u001b[90m━━━━━━━━━━━━━━━━━━━━━━━━━━━━━━━━━━━━━━━━\u001b[0m \u001b[32m62.7/62.7 kB\u001b[0m \u001b[31m6.5 MB/s\u001b[0m eta \u001b[36m0:00:00\u001b[0m\n",
            "\u001b[?25h"
          ]
        }
      ]
    },
    {
      "cell_type": "code",
      "source": [
        "%%writefile app.py\n",
        "import streamlit as st\n",
        "import pandas as pd\n",
        "import numpy as np\n",
        "from sklearn.preprocessing import StandardScaler\n",
        "import pickle\n",
        "\n",
        "st.write(\"\"\"\n",
        "# Heart disease Prediction App\n",
        "\n",
        "This app predicts If a patient has a heart disease\n",
        "\n",
        "\"\"\")\n",
        "\n",
        "st.sidebar.header('User Input Features')\n",
        "\n",
        "\n",
        "\n",
        "# Collects user input features into dataframe\n",
        "\n",
        "def user_input_features():\n",
        "    age = st.sidebar.number_input('Enter your age: ')\n",
        "\n",
        "    sex  = st.sidebar.selectbox('Select your Sex (1 = male; 0 = female)',(0,1))\n",
        "    cp = st.sidebar.slider('Select Chest pain type',0,3)\n",
        "    st.sidebar.write(\"Value 0: typical angina ,Value 1: atypical angina, Value 2: non-anginal pain , Value 3: asymptomatic\")\n",
        "    tres = st.sidebar.number_input('Enter Resting blood pressure: (90mm Hg -200mm Hg)')\n",
        "    chol = st.sidebar.number_input('Enter Serum cholestoral in mg/dl: (100 mg/dl - 600 mg/dl)')\n",
        "    fbs = st.sidebar.selectbox('Select Fasting blood sugar > 120mg/dl:  (1 = true; 0 = false)',(0,1))\n",
        "    res = st.sidebar.number_input('Enter Resting electrocardiographic results: (0 = normal; 1 = ST-T wave abnormality; 2 = left ventricular hypertrophy by the criteria of Estes)')\n",
        "    tha = st.sidebar.number_input('Enter Maximum heart rate achieved: (50bpm - 220bpm)')\n",
        "    exa = st.sidebar.selectbox('Select Exercise induced angina: (1 = yes; 0 = no)',(0,1))\n",
        "    old = st.sidebar.number_input('Enter oldpeak ')\n",
        "    st.sidebar.write('ST depression induced by exercise relative to rest (0 - 6)')\n",
        "    slope = st.sidebar.number_input('Enter the slope of the peak exercise ST segmen: (0 - 2)')\n",
        "    ca = st.sidebar.selectbox('Select the number of major vessels',(0,1,2,3))\n",
        "    thal = st.sidebar.selectbox('thal  (0 = normal; 1 = fixed defect; 2 = reversable defect)',(0,1,2))\n",
        "\n",
        "    data = {'age': age,\n",
        "            'sex': sex,\n",
        "            'cp': cp,\n",
        "            'trestbps':tres,\n",
        "            'chol': chol,\n",
        "            'fbs': fbs,\n",
        "            'restecg': res,\n",
        "            'thalach':tha,\n",
        "            'exang':exa,\n",
        "            'oldpeak':old,\n",
        "            'slope':slope,\n",
        "            'ca':ca,\n",
        "            'thal':thal\n",
        "                }\n",
        "    features = pd.DataFrame(data, index=[0])\n",
        "    return features\n",
        "input_df = user_input_features()\n",
        "\n",
        "\n",
        "heart_dataset = pd.read_csv('heart.csv')\n",
        "heart_dataset = heart_dataset.drop(columns=['target'])\n",
        "\n",
        "data1 = pd.concat([input_df,heart_dataset],axis=0)\n",
        "\n",
        "\n",
        "data1=data1.drop([\"fbs\",\"chol\", \"restecg\",\"trestbps\"], axis = 1)\n",
        "scaler=StandardScaler()\n",
        "columns=[\n",
        "    \"age\",\"sex\",\t\"cp\",\t\"thalach\",\n",
        "    \"exang\",\t\"oldpeak\",\t\"slope\",\n",
        "    \"ca\",\t\"thal\"\n",
        "]\n",
        "data1[columns]=scaler.fit_transform(data1[columns])\n",
        "\n",
        "data1 = data1[:1]\n",
        "\n",
        "st.write(input_df)\n",
        "# Reads in saved classification model\n",
        "knn_model = pickle.load(open('KNN_model.pkl', 'rb'))\n",
        "\n",
        "# Apply model to make predictions\n",
        "prediction = knn_model.predict(data1)\n",
        "prediction_proba = knn_model.predict_proba(data1)\n",
        "\n",
        "\n",
        "st.subheader('Prediction')\n",
        "st.write(prediction)\n",
        "if prediction == 0:\n",
        "  st.subheader(':green[**Absence of Heart Disease**]')\n",
        "else:\n",
        "  st.subheader(':red[**Presence of Heart Disease**]')\n",
        "\n"
      ],
      "metadata": {
        "colab": {
          "base_uri": "https://localhost:8080/"
        },
        "id": "Pvi5QBmYLLYD",
        "outputId": "e992e244-e92d-4cd2-ec21-8c4e38a3be69"
      },
      "execution_count": 12,
      "outputs": [
        {
          "output_type": "stream",
          "name": "stdout",
          "text": [
            "Overwriting app.py\n"
          ]
        }
      ]
    },
    {
      "cell_type": "code",
      "source": [
        "!streamlit run app.py &>/content/logs.txt &"
      ],
      "metadata": {
        "id": "VuIPJR2gLOAH"
      },
      "execution_count": 13,
      "outputs": []
    },
    {
      "cell_type": "code",
      "source": [
        "import urllib\n",
        "print(\"Password/Enpoint IP for localtunnel is:\",urllib.request.urlopen('https://ipv4.icanhazip.com').read().decode('utf8').strip(\"\\n\"))"
      ],
      "metadata": {
        "colab": {
          "base_uri": "https://localhost:8080/"
        },
        "id": "GtLs8Hk4LWzj",
        "outputId": "f59f0159-689e-4864-b4c7-e077f7e44338"
      },
      "execution_count": 14,
      "outputs": [
        {
          "output_type": "stream",
          "name": "stdout",
          "text": [
            "Password/Enpoint IP for localtunnel is: 34.66.142.213\n"
          ]
        }
      ]
    },
    {
      "cell_type": "code",
      "source": [
        "!npx localtunnel --port 8501"
      ],
      "metadata": {
        "colab": {
          "base_uri": "https://localhost:8080/"
        },
        "id": "4P1n2NDTLawu",
        "outputId": "5bf73872-b2d6-4b1d-df02-28e530809ea3"
      },
      "execution_count": 15,
      "outputs": [
        {
          "output_type": "stream",
          "name": "stdout",
          "text": [
            "\u001b[K\u001b[?25hnpx: installed 22 in 1.641s\n",
            "your url is: https://stale-donkeys-itch.loca.lt\n",
            "^C\n"
          ]
        }
      ]
    }
  ]
}